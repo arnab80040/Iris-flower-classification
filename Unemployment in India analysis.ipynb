{
 "cells": [
  {
   "cell_type": "code",
   "execution_count": 1,
   "id": "f43f4d0a",
   "metadata": {},
   "outputs": [],
   "source": [
    "import numpy as np\n",
    "import pandas as pd\n",
    "import matplotlib.pyplot as plt\n",
    "import seaborn as sns"
   ]
  },
  {
   "cell_type": "code",
   "execution_count": 2,
   "id": "4f9518d4",
   "metadata": {},
   "outputs": [
    {
     "data": {
      "text/html": [
       "<div>\n",
       "<style scoped>\n",
       "    .dataframe tbody tr th:only-of-type {\n",
       "        vertical-align: middle;\n",
       "    }\n",
       "\n",
       "    .dataframe tbody tr th {\n",
       "        vertical-align: top;\n",
       "    }\n",
       "\n",
       "    .dataframe thead th {\n",
       "        text-align: right;\n",
       "    }\n",
       "</style>\n",
       "<table border=\"1\" class=\"dataframe\">\n",
       "  <thead>\n",
       "    <tr style=\"text-align: right;\">\n",
       "      <th></th>\n",
       "      <th>Region</th>\n",
       "      <th>Date</th>\n",
       "      <th>Frequency</th>\n",
       "      <th>Unemployment rate</th>\n",
       "      <th>Employed</th>\n",
       "      <th>Labour Participation Rate (%)</th>\n",
       "      <th>Area</th>\n",
       "    </tr>\n",
       "  </thead>\n",
       "  <tbody>\n",
       "    <tr>\n",
       "      <th>0</th>\n",
       "      <td>Andhra Pradesh</td>\n",
       "      <td>31-05-2019</td>\n",
       "      <td>Monthly</td>\n",
       "      <td>3.65</td>\n",
       "      <td>11999139.0</td>\n",
       "      <td>43.24</td>\n",
       "      <td>Rural</td>\n",
       "    </tr>\n",
       "    <tr>\n",
       "      <th>1</th>\n",
       "      <td>Andhra Pradesh</td>\n",
       "      <td>30-06-2019</td>\n",
       "      <td>Monthly</td>\n",
       "      <td>3.05</td>\n",
       "      <td>11755881.0</td>\n",
       "      <td>42.05</td>\n",
       "      <td>Rural</td>\n",
       "    </tr>\n",
       "    <tr>\n",
       "      <th>2</th>\n",
       "      <td>Andhra Pradesh</td>\n",
       "      <td>31-07-2019</td>\n",
       "      <td>Monthly</td>\n",
       "      <td>3.75</td>\n",
       "      <td>12086707.0</td>\n",
       "      <td>43.50</td>\n",
       "      <td>Rural</td>\n",
       "    </tr>\n",
       "    <tr>\n",
       "      <th>3</th>\n",
       "      <td>Andhra Pradesh</td>\n",
       "      <td>31-08-2019</td>\n",
       "      <td>Monthly</td>\n",
       "      <td>3.32</td>\n",
       "      <td>12285693.0</td>\n",
       "      <td>43.97</td>\n",
       "      <td>Rural</td>\n",
       "    </tr>\n",
       "    <tr>\n",
       "      <th>4</th>\n",
       "      <td>Andhra Pradesh</td>\n",
       "      <td>30-09-2019</td>\n",
       "      <td>Monthly</td>\n",
       "      <td>5.17</td>\n",
       "      <td>12256762.0</td>\n",
       "      <td>44.68</td>\n",
       "      <td>Rural</td>\n",
       "    </tr>\n",
       "    <tr>\n",
       "      <th>...</th>\n",
       "      <td>...</td>\n",
       "      <td>...</td>\n",
       "      <td>...</td>\n",
       "      <td>...</td>\n",
       "      <td>...</td>\n",
       "      <td>...</td>\n",
       "      <td>...</td>\n",
       "    </tr>\n",
       "    <tr>\n",
       "      <th>749</th>\n",
       "      <td>West Bengal</td>\n",
       "      <td>29-02-2020</td>\n",
       "      <td>Monthly</td>\n",
       "      <td>7.55</td>\n",
       "      <td>10871168.0</td>\n",
       "      <td>44.09</td>\n",
       "      <td>Urban</td>\n",
       "    </tr>\n",
       "    <tr>\n",
       "      <th>750</th>\n",
       "      <td>West Bengal</td>\n",
       "      <td>31-03-2020</td>\n",
       "      <td>Monthly</td>\n",
       "      <td>6.67</td>\n",
       "      <td>10806105.0</td>\n",
       "      <td>43.34</td>\n",
       "      <td>Urban</td>\n",
       "    </tr>\n",
       "    <tr>\n",
       "      <th>751</th>\n",
       "      <td>West Bengal</td>\n",
       "      <td>30-04-2020</td>\n",
       "      <td>Monthly</td>\n",
       "      <td>15.63</td>\n",
       "      <td>9299466.0</td>\n",
       "      <td>41.20</td>\n",
       "      <td>Urban</td>\n",
       "    </tr>\n",
       "    <tr>\n",
       "      <th>752</th>\n",
       "      <td>West Bengal</td>\n",
       "      <td>31-05-2020</td>\n",
       "      <td>Monthly</td>\n",
       "      <td>15.22</td>\n",
       "      <td>9240903.0</td>\n",
       "      <td>40.67</td>\n",
       "      <td>Urban</td>\n",
       "    </tr>\n",
       "    <tr>\n",
       "      <th>753</th>\n",
       "      <td>West Bengal</td>\n",
       "      <td>30-06-2020</td>\n",
       "      <td>Monthly</td>\n",
       "      <td>9.86</td>\n",
       "      <td>9088931.0</td>\n",
       "      <td>37.57</td>\n",
       "      <td>Urban</td>\n",
       "    </tr>\n",
       "  </tbody>\n",
       "</table>\n",
       "<p>754 rows × 7 columns</p>\n",
       "</div>"
      ],
      "text/plain": [
       "             Region        Date  Frequency  Unemployment rate    Employed  \\\n",
       "0    Andhra Pradesh  31-05-2019    Monthly               3.65  11999139.0   \n",
       "1    Andhra Pradesh  30-06-2019    Monthly               3.05  11755881.0   \n",
       "2    Andhra Pradesh  31-07-2019    Monthly               3.75  12086707.0   \n",
       "3    Andhra Pradesh  31-08-2019    Monthly               3.32  12285693.0   \n",
       "4    Andhra Pradesh  30-09-2019    Monthly               5.17  12256762.0   \n",
       "..              ...         ...        ...                ...         ...   \n",
       "749     West Bengal  29-02-2020    Monthly               7.55  10871168.0   \n",
       "750     West Bengal  31-03-2020    Monthly               6.67  10806105.0   \n",
       "751     West Bengal  30-04-2020    Monthly              15.63   9299466.0   \n",
       "752     West Bengal  31-05-2020    Monthly              15.22   9240903.0   \n",
       "753     West Bengal  30-06-2020    Monthly               9.86   9088931.0   \n",
       "\n",
       "     Labour Participation Rate (%)   Area  \n",
       "0                            43.24  Rural  \n",
       "1                            42.05  Rural  \n",
       "2                            43.50  Rural  \n",
       "3                            43.97  Rural  \n",
       "4                            44.68  Rural  \n",
       "..                             ...    ...  \n",
       "749                          44.09  Urban  \n",
       "750                          43.34  Urban  \n",
       "751                          41.20  Urban  \n",
       "752                          40.67  Urban  \n",
       "753                          37.57  Urban  \n",
       "\n",
       "[754 rows x 7 columns]"
      ]
     },
     "execution_count": 2,
     "metadata": {},
     "output_type": "execute_result"
    }
   ],
   "source": [
    "df = pd.read_csv(\"Unemployment in India file.csv\")\n",
    "df"
   ]
  },
  {
   "cell_type": "code",
   "execution_count": 3,
   "id": "59b02311",
   "metadata": {},
   "outputs": [
    {
     "data": {
      "text/plain": [
       "Region                           14\n",
       " Date                            14\n",
       " Frequency                       14\n",
       "Unemployment rate                14\n",
       "Employed                         14\n",
       "Labour Participation Rate (%)    14\n",
       "Area                             14\n",
       "dtype: int64"
      ]
     },
     "execution_count": 3,
     "metadata": {},
     "output_type": "execute_result"
    }
   ],
   "source": [
    "df.isnull().sum()"
   ]
  },
  {
   "cell_type": "code",
   "execution_count": 4,
   "id": "78fab1bc",
   "metadata": {},
   "outputs": [
    {
     "data": {
      "text/plain": [
       "(740, 7)"
      ]
     },
     "execution_count": 4,
     "metadata": {},
     "output_type": "execute_result"
    }
   ],
   "source": [
    "df.dropna(inplace=True)\n",
    "df.drop_duplicates(inplace=True)\n",
    "df.shape"
   ]
  },
  {
   "cell_type": "code",
   "execution_count": 5,
   "id": "24bdf289",
   "metadata": {},
   "outputs": [
    {
     "data": {
      "image/png": "[encoded data removed]",
      "text/plain": [
       "<Figure size 640x480 with 1 Axes>"
      ]
     },
     "metadata": {},
     "output_type": "display_data"
    }
   ],
   "source": [
    "df_urbanisation = df.drop_duplicates(subset=[\"Region\", \"Area\"], keep=\"last\")\n",
    "plt.pie(df_urbanisation[\"Area\"].value_counts(), labels=[\"Rural\", \"Urban\"], autopct=\"%0.2f\", explode=[0.05,0], startangle=90)\n",
    "plt.title(\"Areas in India based on Urbanisation\")\n",
    "plt.show()install"
   ]
  },
  {
   "cell_type": "code",
   "execution_count": 46,
   "id": "d3b72899",
   "metadata": {},
   "outputs": [
    {
     "name": "stdout",
     "output_type": "stream",
     "text": [
      "28\n"
     ]
    }
   ],
   "source": [
    "print(df_urbanisation[\"Area\"].value_counts()[0])"
   ]
  },
  {
   "cell_type": "code",
   "execution_count": 6,
   "id": "019a749a",
   "metadata": {},
   "outputs": [
    {
     "data": {
      "text/html": [
       "<div>\n",
       "<style scoped>\n",
       "    .dataframe tbody tr th:only-of-type {\n",
       "        vertical-align: middle;\n",
       "    }\n",
       "\n",
       "    .dataframe tbody tr th {\n",
       "        vertical-align: top;\n",
       "    }\n",
       "\n",
       "    .dataframe thead th {\n",
       "        text-align: right;\n",
       "    }\n",
       "</style>\n",
       "<table border=\"1\" class=\"dataframe\">\n",
       "  <thead>\n",
       "    <tr style=\"text-align: right;\">\n",
       "      <th></th>\n",
       "      <th>Region</th>\n",
       "      <th>Date</th>\n",
       "      <th>Frequency</th>\n",
       "      <th>Unemployment rate</th>\n",
       "      <th>Employed</th>\n",
       "      <th>Labour Participation Rate (%)</th>\n",
       "      <th>Area</th>\n",
       "    </tr>\n",
       "  </thead>\n",
       "  <tbody>\n",
       "    <tr>\n",
       "      <th>0</th>\n",
       "      <td>Andhra Pradesh</td>\n",
       "      <td>31-05-2019</td>\n",
       "      <td>Monthly</td>\n",
       "      <td>3.65</td>\n",
       "      <td>11999139.0</td>\n",
       "      <td>43.24</td>\n",
       "      <td>Rural</td>\n",
       "    </tr>\n",
       "    <tr>\n",
       "      <th>248</th>\n",
       "      <td>Punjab</td>\n",
       "      <td>31-10-2019</td>\n",
       "      <td>Monthly</td>\n",
       "      <td>12.56</td>\n",
       "      <td>6021921.0</td>\n",
       "      <td>45.66</td>\n",
       "      <td>Rural</td>\n",
       "    </tr>\n",
       "    <tr>\n",
       "      <th>431</th>\n",
       "      <td>Chhattisgarh</td>\n",
       "      <td>30-09-2019</td>\n",
       "      <td>Monthly</td>\n",
       "      <td>9.46</td>\n",
       "      <td>2311507.0</td>\n",
       "      <td>46.80</td>\n",
       "      <td>Urban</td>\n",
       "    </tr>\n",
       "    <tr>\n",
       "      <th>152</th>\n",
       "      <td>Karnataka</td>\n",
       "      <td>31-10-2019</td>\n",
       "      <td>Monthly</td>\n",
       "      <td>7.13</td>\n",
       "      <td>12803527.0</td>\n",
       "      <td>43.10</td>\n",
       "      <td>Rural</td>\n",
       "    </tr>\n",
       "    <tr>\n",
       "      <th>719</th>\n",
       "      <td>Uttar Pradesh</td>\n",
       "      <td>31-12-2019</td>\n",
       "      <td>Monthly</td>\n",
       "      <td>12.37</td>\n",
       "      <td>13857200.0</td>\n",
       "      <td>40.21</td>\n",
       "      <td>Urban</td>\n",
       "    </tr>\n",
       "    <tr>\n",
       "      <th>752</th>\n",
       "      <td>West Bengal</td>\n",
       "      <td>31-05-2020</td>\n",
       "      <td>Monthly</td>\n",
       "      <td>15.22</td>\n",
       "      <td>9240903.0</td>\n",
       "      <td>40.67</td>\n",
       "      <td>Urban</td>\n",
       "    </tr>\n",
       "    <tr>\n",
       "      <th>708</th>\n",
       "      <td>Tripura</td>\n",
       "      <td>31-03-2020</td>\n",
       "      <td>Monthly</td>\n",
       "      <td>25.69</td>\n",
       "      <td>450271.0</td>\n",
       "      <td>63.56</td>\n",
       "      <td>Urban</td>\n",
       "    </tr>\n",
       "    <tr>\n",
       "      <th>736</th>\n",
       "      <td>Uttarakhand</td>\n",
       "      <td>31-03-2020</td>\n",
       "      <td>Monthly</td>\n",
       "      <td>8.15</td>\n",
       "      <td>889245.0</td>\n",
       "      <td>33.33</td>\n",
       "      <td>Urban</td>\n",
       "    </tr>\n",
       "    <tr>\n",
       "      <th>646</th>\n",
       "      <td>Rajasthan</td>\n",
       "      <td>31-07-2019</td>\n",
       "      <td>Monthly</td>\n",
       "      <td>11.67</td>\n",
       "      <td>5372470.0</td>\n",
       "      <td>40.38</td>\n",
       "      <td>Urban</td>\n",
       "    </tr>\n",
       "    <tr>\n",
       "      <th>374</th>\n",
       "      <td>Andhra Pradesh</td>\n",
       "      <td>30-06-2019</td>\n",
       "      <td>Monthly</td>\n",
       "      <td>3.80</td>\n",
       "      <td>4824630.0</td>\n",
       "      <td>36.76</td>\n",
       "      <td>Urban</td>\n",
       "    </tr>\n",
       "  </tbody>\n",
       "</table>\n",
       "</div>"
      ],
      "text/plain": [
       "             Region        Date  Frequency  Unemployment rate    Employed  \\\n",
       "0    Andhra Pradesh  31-05-2019    Monthly               3.65  11999139.0   \n",
       "248          Punjab  31-10-2019    Monthly              12.56   6021921.0   \n",
       "431    Chhattisgarh  30-09-2019    Monthly               9.46   2311507.0   \n",
       "152       Karnataka  31-10-2019    Monthly               7.13  12803527.0   \n",
       "719   Uttar Pradesh  31-12-2019    Monthly              12.37  13857200.0   \n",
       "752     West Bengal  31-05-2020    Monthly              15.22   9240903.0   \n",
       "708         Tripura  31-03-2020    Monthly              25.69    450271.0   \n",
       "736     Uttarakhand  31-03-2020    Monthly               8.15    889245.0   \n",
       "646       Rajasthan  31-07-2019    Monthly              11.67   5372470.0   \n",
       "374  Andhra Pradesh  30-06-2019    Monthly               3.80   4824630.0   \n",
       "\n",
       "     Labour Participation Rate (%)   Area  \n",
       "0                            43.24  Rural  \n",
       "248                          45.66  Rural  \n",
       "431                          46.80  Urban  \n",
       "152                          43.10  Rural  \n",
       "719                          40.21  Urban  \n",
       "752                          40.67  Urban  \n",
       "708                          63.56  Urban  \n",
       "736                          33.33  Urban  \n",
       "646                          40.38  Urban  \n",
       "374                          36.76  Urban  "
      ]
     },
     "execution_count": 6,
     "metadata": {},
     "output_type": "execute_result"
    }
   ],
   "source": [
    "df.sample(10)"
   ]
  },
  {
   "cell_type": "code",
   "execution_count": 43,
   "id": "19abef83",
   "metadata": {},
   "outputs": [
    {
     "data": {
      "text/html": [
       "<div>\n",
       "<style scoped>\n",
       "    .dataframe tbody tr th:only-of-type {\n",
       "        vertical-align: middle;\n",
       "    }\n",
       "\n",
       "    .dataframe tbody tr th {\n",
       "        vertical-align: top;\n",
       "    }\n",
       "\n",
       "    .dataframe thead th {\n",
       "        text-align: right;\n",
       "    }\n",
       "</style>\n",
       "<table border=\"1\" class=\"dataframe\">\n",
       "  <thead>\n",
       "    <tr style=\"text-align: right;\">\n",
       "      <th></th>\n",
       "      <th>Region</th>\n",
       "      <th>Date</th>\n",
       "      <th>Frequency</th>\n",
       "      <th>Unemployment rate</th>\n",
       "      <th>Employed</th>\n",
       "      <th>Labour Participation Rate (%)</th>\n",
       "      <th>Area</th>\n",
       "      <th>Region and Area</th>\n",
       "    </tr>\n",
       "  </thead>\n",
       "  <tbody>\n",
       "    <tr>\n",
       "      <th>373</th>\n",
       "      <td>Andhra Pradesh</td>\n",
       "      <td>31-05-2019</td>\n",
       "      <td>Monthly</td>\n",
       "      <td>6.09</td>\n",
       "      <td>4788661.0</td>\n",
       "      <td>37.45</td>\n",
       "      <td>Urban</td>\n",
       "      <td>Andhra Pradesh(Urban)</td>\n",
       "    </tr>\n",
       "    <tr>\n",
       "      <th>374</th>\n",
       "      <td>Andhra Pradesh</td>\n",
       "      <td>30-06-2019</td>\n",
       "      <td>Monthly</td>\n",
       "      <td>3.80</td>\n",
       "      <td>4824630.0</td>\n",
       "      <td>36.76</td>\n",
       "      <td>Urban</td>\n",
       "      <td>Andhra Pradesh(Urban)</td>\n",
       "    </tr>\n",
       "    <tr>\n",
       "      <th>375</th>\n",
       "      <td>Andhra Pradesh</td>\n",
       "      <td>31-07-2019</td>\n",
       "      <td>Monthly</td>\n",
       "      <td>5.64</td>\n",
       "      <td>4657443.0</td>\n",
       "      <td>36.10</td>\n",
       "      <td>Urban</td>\n",
       "      <td>Andhra Pradesh(Urban)</td>\n",
       "    </tr>\n",
       "    <tr>\n",
       "      <th>376</th>\n",
       "      <td>Andhra Pradesh</td>\n",
       "      <td>31-08-2019</td>\n",
       "      <td>Monthly</td>\n",
       "      <td>4.61</td>\n",
       "      <td>4743179.0</td>\n",
       "      <td>36.29</td>\n",
       "      <td>Urban</td>\n",
       "      <td>Andhra Pradesh(Urban)</td>\n",
       "    </tr>\n",
       "    <tr>\n",
       "      <th>377</th>\n",
       "      <td>Andhra Pradesh</td>\n",
       "      <td>30-09-2019</td>\n",
       "      <td>Monthly</td>\n",
       "      <td>6.01</td>\n",
       "      <td>4733996.0</td>\n",
       "      <td>36.69</td>\n",
       "      <td>Urban</td>\n",
       "      <td>Andhra Pradesh(Urban)</td>\n",
       "    </tr>\n",
       "    <tr>\n",
       "      <th>...</th>\n",
       "      <td>...</td>\n",
       "      <td>...</td>\n",
       "      <td>...</td>\n",
       "      <td>...</td>\n",
       "      <td>...</td>\n",
       "      <td>...</td>\n",
       "      <td>...</td>\n",
       "      <td>...</td>\n",
       "    </tr>\n",
       "    <tr>\n",
       "      <th>749</th>\n",
       "      <td>West Bengal</td>\n",
       "      <td>29-02-2020</td>\n",
       "      <td>Monthly</td>\n",
       "      <td>7.55</td>\n",
       "      <td>10871168.0</td>\n",
       "      <td>44.09</td>\n",
       "      <td>Urban</td>\n",
       "      <td>West Bengal(Urban)</td>\n",
       "    </tr>\n",
       "    <tr>\n",
       "      <th>750</th>\n",
       "      <td>West Bengal</td>\n",
       "      <td>31-03-2020</td>\n",
       "      <td>Monthly</td>\n",
       "      <td>6.67</td>\n",
       "      <td>10806105.0</td>\n",
       "      <td>43.34</td>\n",
       "      <td>Urban</td>\n",
       "      <td>West Bengal(Urban)</td>\n",
       "    </tr>\n",
       "    <tr>\n",
       "      <th>751</th>\n",
       "      <td>West Bengal</td>\n",
       "      <td>30-04-2020</td>\n",
       "      <td>Monthly</td>\n",
       "      <td>15.63</td>\n",
       "      <td>9299466.0</td>\n",
       "      <td>41.20</td>\n",
       "      <td>Urban</td>\n",
       "      <td>West Bengal(Urban)</td>\n",
       "    </tr>\n",
       "    <tr>\n",
       "      <th>752</th>\n",
       "      <td>West Bengal</td>\n",
       "      <td>31-05-2020</td>\n",
       "      <td>Monthly</td>\n",
       "      <td>15.22</td>\n",
       "      <td>9240903.0</td>\n",
       "      <td>40.67</td>\n",
       "      <td>Urban</td>\n",
       "      <td>West Bengal(Urban)</td>\n",
       "    </tr>\n",
       "    <tr>\n",
       "      <th>753</th>\n",
       "      <td>West Bengal</td>\n",
       "      <td>30-06-2020</td>\n",
       "      <td>Monthly</td>\n",
       "      <td>9.86</td>\n",
       "      <td>9088931.0</td>\n",
       "      <td>37.57</td>\n",
       "      <td>Urban</td>\n",
       "      <td>West Bengal(Urban)</td>\n",
       "    </tr>\n",
       "  </tbody>\n",
       "</table>\n",
       "<p>381 rows × 8 columns</p>\n",
       "</div>"
      ],
      "text/plain": [
       "             Region        Date  Frequency  Unemployment rate    Employed  \\\n",
       "373  Andhra Pradesh  31-05-2019    Monthly               6.09   4788661.0   \n",
       "374  Andhra Pradesh  30-06-2019    Monthly               3.80   4824630.0   \n",
       "375  Andhra Pradesh  31-07-2019    Monthly               5.64   4657443.0   \n",
       "376  Andhra Pradesh  31-08-2019    Monthly               4.61   4743179.0   \n",
       "377  Andhra Pradesh  30-09-2019    Monthly               6.01   4733996.0   \n",
       "..              ...         ...        ...                ...         ...   \n",
       "749     West Bengal  29-02-2020    Monthly               7.55  10871168.0   \n",
       "750     West Bengal  31-03-2020    Monthly               6.67  10806105.0   \n",
       "751     West Bengal  30-04-2020    Monthly              15.63   9299466.0   \n",
       "752     West Bengal  31-05-2020    Monthly              15.22   9240903.0   \n",
       "753     West Bengal  30-06-2020    Monthly               9.86   9088931.0   \n",
       "\n",
       "     Labour Participation Rate (%)   Area        Region and Area  \n",
       "373                          37.45  Urban  Andhra Pradesh(Urban)  \n",
       "374                          36.76  Urban  Andhra Pradesh(Urban)  \n",
       "375                          36.10  Urban  Andhra Pradesh(Urban)  \n",
       "376                          36.29  Urban  Andhra Pradesh(Urban)  \n",
       "377                          36.69  Urban  Andhra Pradesh(Urban)  \n",
       "..                             ...    ...                    ...  \n",
       "749                          44.09  Urban     West Bengal(Urban)  \n",
       "750                          43.34  Urban     West Bengal(Urban)  \n",
       "751                          41.20  Urban     West Bengal(Urban)  \n",
       "752                          40.67  Urban     West Bengal(Urban)  \n",
       "753                          37.57  Urban     West Bengal(Urban)  \n",
       "\n",
       "[381 rows x 8 columns]"
      ]
     },
     "execution_count": 43,
     "metadata": {},
     "output_type": "execute_result"
    }
   ],
   "source": [
    "df_urban = df[df[\"Area\"] == \"Urban\"]\n",
    "df_rural = df[df[\"Area\"] == \"Rural\"]\n",
    "df_urban"
   ]
  },
  {
   "cell_type": "markdown",
   "id": "3ca65f78",
   "metadata": {},
   "source": [
    "# Average unemployment rate in India from 31-05-2019 to 30-06-2020"
   ]
  },
  {
   "cell_type": "code",
   "execution_count": 42,
   "id": "309eaa4a",
   "metadata": {},
   "outputs": [
    {
     "data": {
      "text/plain": [
       "11.787945945945946"
      ]
     },
     "execution_count": 42,
     "metadata": {},
     "output_type": "execute_result"
    }
   ],
   "source": [
    "np.mean(df[\"Unemployment rate\"])"
   ]
  },
  {
   "cell_type": "code",
   "execution_count": 9,
   "id": "bdf0041a",
   "metadata": {},
   "outputs": [
    {
     "data": {
      "image/png": "[encoded data removed]",
      "text/plain": [
       "<Figure size 640x480 with 1 Axes>"
      ]
     },
     "metadata": {},
     "output_type": "display_data"
    }
   ],
   "source": [
    "plt.bar([\"Urban\", \"Rural\"], [np.mean(df_urban[\"Unemployment rate\"]), np.mean(df_rural[\"Unemployment rate\"])])\n",
    "plt.xlabel(\"Urbanisation satus\")\n",
    "plt.ylabel(\"Unmployment rate\")\n",
    "plt.show()"
   ]
  },
  {
   "cell_type": "markdown",
   "id": "7c922c46",
   "metadata": {},
   "source": [
    "# Regions with highest unemployment as on 30-06-2020"
   ]
  },
  {
   "cell_type": "code",
   "execution_count": 10,
   "id": "ca53cac0",
   "metadata": {},
   "outputs": [
    {
     "data": {
      "text/html": [
       "<div>\n",
       "<style scoped>\n",
       "    .dataframe tbody tr th:only-of-type {\n",
       "        vertical-align: middle;\n",
       "    }\n",
       "\n",
       "    .dataframe tbody tr th {\n",
       "        vertical-align: top;\n",
       "    }\n",
       "\n",
       "    .dataframe thead th {\n",
       "        text-align: right;\n",
       "    }\n",
       "</style>\n",
       "<table border=\"1\" class=\"dataframe\">\n",
       "  <thead>\n",
       "    <tr style=\"text-align: right;\">\n",
       "      <th></th>\n",
       "      <th>Region</th>\n",
       "      <th>Date</th>\n",
       "      <th>Frequency</th>\n",
       "      <th>Unemployment rate</th>\n",
       "      <th>Employed</th>\n",
       "      <th>Labour Participation Rate (%)</th>\n",
       "      <th>Area</th>\n",
       "    </tr>\n",
       "  </thead>\n",
       "  <tbody>\n",
       "    <tr>\n",
       "      <th>107</th>\n",
       "      <td>Haryana</td>\n",
       "      <td>30-06-2020</td>\n",
       "      <td>Monthly</td>\n",
       "      <td>35.57</td>\n",
       "      <td>4357835.0</td>\n",
       "      <td>48.53</td>\n",
       "      <td>Rural</td>\n",
       "    </tr>\n",
       "    <tr>\n",
       "      <th>494</th>\n",
       "      <td>Haryana</td>\n",
       "      <td>30-06-2020</td>\n",
       "      <td>Monthly</td>\n",
       "      <td>29.41</td>\n",
       "      <td>2304138.0</td>\n",
       "      <td>38.09</td>\n",
       "      <td>Urban</td>\n",
       "    </tr>\n",
       "    <tr>\n",
       "      <th>174</th>\n",
       "      <td>Kerala</td>\n",
       "      <td>30-06-2020</td>\n",
       "      <td>Monthly</td>\n",
       "      <td>27.66</td>\n",
       "      <td>3952088.0</td>\n",
       "      <td>37.01</td>\n",
       "      <td>Rural</td>\n",
       "    </tr>\n",
       "    <tr>\n",
       "      <th>711</th>\n",
       "      <td>Tripura</td>\n",
       "      <td>30-06-2020</td>\n",
       "      <td>Monthly</td>\n",
       "      <td>27.47</td>\n",
       "      <td>391015.0</td>\n",
       "      <td>56.17</td>\n",
       "      <td>Urban</td>\n",
       "    </tr>\n",
       "    <tr>\n",
       "      <th>440</th>\n",
       "      <td>Chhattisgarh</td>\n",
       "      <td>30-06-2020</td>\n",
       "      <td>Monthly</td>\n",
       "      <td>27.07</td>\n",
       "      <td>1602231.0</td>\n",
       "      <td>39.41</td>\n",
       "      <td>Urban</td>\n",
       "    </tr>\n",
       "  </tbody>\n",
       "</table>\n",
       "</div>"
      ],
      "text/plain": [
       "           Region        Date  Frequency  Unemployment rate   Employed  \\\n",
       "107       Haryana  30-06-2020    Monthly              35.57  4357835.0   \n",
       "494       Haryana  30-06-2020    Monthly              29.41  2304138.0   \n",
       "174        Kerala  30-06-2020    Monthly              27.66  3952088.0   \n",
       "711       Tripura  30-06-2020    Monthly              27.47   391015.0   \n",
       "440  Chhattisgarh  30-06-2020    Monthly              27.07  1602231.0   \n",
       "\n",
       "     Labour Participation Rate (%)   Area  \n",
       "107                          48.53  Rural  \n",
       "494                          38.09  Urban  \n",
       "174                          37.01  Rural  \n",
       "711                          56.17  Urban  \n",
       "440                          39.41  Urban  "
      ]
     },
     "execution_count": 10,
     "metadata": {},
     "output_type": "execute_result"
    }
   ],
   "source": [
    "df_high_u = df[df[\" Date\"] == '30-06-2020'].sort_values(\"Unemployment rate\", ascending=False).head(5)\n",
    "df_high_u"
   ]
  },
  {
   "cell_type": "code",
   "execution_count": 11,
   "id": "2d7f7637",
   "metadata": {},
   "outputs": [
    {
     "data": {
      "text/html": [
       "<div>\n",
       "<style scoped>\n",
       "    .dataframe tbody tr th:only-of-type {\n",
       "        vertical-align: middle;\n",
       "    }\n",
       "\n",
       "    .dataframe tbody tr th {\n",
       "        vertical-align: top;\n",
       "    }\n",
       "\n",
       "    .dataframe thead th {\n",
       "        text-align: right;\n",
       "    }\n",
       "</style>\n",
       "<table border=\"1\" class=\"dataframe\">\n",
       "  <thead>\n",
       "    <tr style=\"text-align: right;\">\n",
       "      <th></th>\n",
       "      <th>Region</th>\n",
       "      <th>Date</th>\n",
       "      <th>Frequency</th>\n",
       "      <th>Unemployment rate</th>\n",
       "      <th>Employed</th>\n",
       "      <th>Labour Participation Rate (%)</th>\n",
       "      <th>Area</th>\n",
       "      <th>Region and Area</th>\n",
       "    </tr>\n",
       "  </thead>\n",
       "  <tbody>\n",
       "    <tr>\n",
       "      <th>107</th>\n",
       "      <td>Haryana</td>\n",
       "      <td>30-06-2020</td>\n",
       "      <td>Monthly</td>\n",
       "      <td>35.57</td>\n",
       "      <td>4357835.0</td>\n",
       "      <td>48.53</td>\n",
       "      <td>Rural</td>\n",
       "      <td>Haryana(Rural)</td>\n",
       "    </tr>\n",
       "    <tr>\n",
       "      <th>494</th>\n",
       "      <td>Haryana</td>\n",
       "      <td>30-06-2020</td>\n",
       "      <td>Monthly</td>\n",
       "      <td>29.41</td>\n",
       "      <td>2304138.0</td>\n",
       "      <td>38.09</td>\n",
       "      <td>Urban</td>\n",
       "      <td>Haryana(Urban)</td>\n",
       "    </tr>\n",
       "    <tr>\n",
       "      <th>174</th>\n",
       "      <td>Kerala</td>\n",
       "      <td>30-06-2020</td>\n",
       "      <td>Monthly</td>\n",
       "      <td>27.66</td>\n",
       "      <td>3952088.0</td>\n",
       "      <td>37.01</td>\n",
       "      <td>Rural</td>\n",
       "      <td>Kerala(Rural)</td>\n",
       "    </tr>\n",
       "    <tr>\n",
       "      <th>711</th>\n",
       "      <td>Tripura</td>\n",
       "      <td>30-06-2020</td>\n",
       "      <td>Monthly</td>\n",
       "      <td>27.47</td>\n",
       "      <td>391015.0</td>\n",
       "      <td>56.17</td>\n",
       "      <td>Urban</td>\n",
       "      <td>Tripura(Urban)</td>\n",
       "    </tr>\n",
       "    <tr>\n",
       "      <th>440</th>\n",
       "      <td>Chhattisgarh</td>\n",
       "      <td>30-06-2020</td>\n",
       "      <td>Monthly</td>\n",
       "      <td>27.07</td>\n",
       "      <td>1602231.0</td>\n",
       "      <td>39.41</td>\n",
       "      <td>Urban</td>\n",
       "      <td>Chhattisgarh(Urban)</td>\n",
       "    </tr>\n",
       "  </tbody>\n",
       "</table>\n",
       "</div>"
      ],
      "text/plain": [
       "           Region        Date  Frequency  Unemployment rate   Employed  \\\n",
       "107       Haryana  30-06-2020    Monthly              35.57  4357835.0   \n",
       "494       Haryana  30-06-2020    Monthly              29.41  2304138.0   \n",
       "174        Kerala  30-06-2020    Monthly              27.66  3952088.0   \n",
       "711       Tripura  30-06-2020    Monthly              27.47   391015.0   \n",
       "440  Chhattisgarh  30-06-2020    Monthly              27.07  1602231.0   \n",
       "\n",
       "     Labour Participation Rate (%)   Area      Region and Area  \n",
       "107                          48.53  Rural       Haryana(Rural)  \n",
       "494                          38.09  Urban       Haryana(Urban)  \n",
       "174                          37.01  Rural        Kerala(Rural)  \n",
       "711                          56.17  Urban       Tripura(Urban)  \n",
       "440                          39.41  Urban  Chhattisgarh(Urban)  "
      ]
     },
     "execution_count": 11,
     "metadata": {},
     "output_type": "execute_result"
    }
   ],
   "source": [
    "df_high_u[\"Region and Area\"] = df_high_u[\"Region\"] + \"(\" + df_high_u[\"Area\"] + \")\"\n",
    "df_high_u"
   ]
  },
  {
   "cell_type": "code",
   "execution_count": 12,
   "id": "701d2bdd",
   "metadata": {},
   "outputs": [
    {
     "data": {
      "image/png": "[encoded data removed]",
      "text/plain": [
       "<Figure size 640x480 with 1 Axes>"
      ]
     },
     "metadata": {},
     "output_type": "display_data"
    }
   ],
   "source": [
    "fig, graph = plt.subplots()\n",
    "graph.barh(df_high_u[\"Region and Area\"], df_high_u[\"Unemployment rate\"])\n",
    "fig.subplots_adjust()\n",
    "plt.ylabel(\"Region and area\")\n",
    "plt.xlabel(\"Unemployment rate\")\n",
    "plt.show()"
   ]
  },
  {
   "cell_type": "markdown",
   "id": "8aae6551",
   "metadata": {},
   "source": [
    "# Regions with lowest unemployment as on 30-06-2020"
   ]
  },
  {
   "cell_type": "code",
   "execution_count": 13,
   "id": "4fe06633",
   "metadata": {},
   "outputs": [
    {
     "data": {
      "text/html": [
       "<div>\n",
       "<style scoped>\n",
       "    .dataframe tbody tr th:only-of-type {\n",
       "        vertical-align: middle;\n",
       "    }\n",
       "\n",
       "    .dataframe tbody tr th {\n",
       "        vertical-align: top;\n",
       "    }\n",
       "\n",
       "    .dataframe thead th {\n",
       "        text-align: right;\n",
       "    }\n",
       "</style>\n",
       "<table border=\"1\" class=\"dataframe\">\n",
       "  <thead>\n",
       "    <tr style=\"text-align: right;\">\n",
       "      <th></th>\n",
       "      <th>Region</th>\n",
       "      <th>Date</th>\n",
       "      <th>Frequency</th>\n",
       "      <th>Unemployment rate</th>\n",
       "      <th>Employed</th>\n",
       "      <th>Labour Participation Rate (%)</th>\n",
       "      <th>Area</th>\n",
       "    </tr>\n",
       "  </thead>\n",
       "  <tbody>\n",
       "    <tr>\n",
       "      <th>25</th>\n",
       "      <td>Assam</td>\n",
       "      <td>30-06-2020</td>\n",
       "      <td>Monthly</td>\n",
       "      <td>0.00</td>\n",
       "      <td>7544937.0</td>\n",
       "      <td>34.38</td>\n",
       "      <td>Rural</td>\n",
       "    </tr>\n",
       "    <tr>\n",
       "      <th>13</th>\n",
       "      <td>Andhra Pradesh</td>\n",
       "      <td>30-06-2020</td>\n",
       "      <td>Monthly</td>\n",
       "      <td>0.85</td>\n",
       "      <td>15572975.0</td>\n",
       "      <td>53.76</td>\n",
       "      <td>Rural</td>\n",
       "    </tr>\n",
       "    <tr>\n",
       "      <th>121</th>\n",
       "      <td>Himachal Pradesh</td>\n",
       "      <td>30-06-2020</td>\n",
       "      <td>Monthly</td>\n",
       "      <td>1.12</td>\n",
       "      <td>2230075.0</td>\n",
       "      <td>41.20</td>\n",
       "      <td>Rural</td>\n",
       "    </tr>\n",
       "    <tr>\n",
       "      <th>216</th>\n",
       "      <td>Meghalaya</td>\n",
       "      <td>30-06-2020</td>\n",
       "      <td>Monthly</td>\n",
       "      <td>1.35</td>\n",
       "      <td>1150200.0</td>\n",
       "      <td>64.63</td>\n",
       "      <td>Rural</td>\n",
       "    </tr>\n",
       "    <tr>\n",
       "      <th>93</th>\n",
       "      <td>Gujarat</td>\n",
       "      <td>30-06-2020</td>\n",
       "      <td>Monthly</td>\n",
       "      <td>1.41</td>\n",
       "      <td>13243922.0</td>\n",
       "      <td>47.72</td>\n",
       "      <td>Rural</td>\n",
       "    </tr>\n",
       "  </tbody>\n",
       "</table>\n",
       "</div>"
      ],
      "text/plain": [
       "               Region        Date  Frequency  Unemployment rate    Employed  \\\n",
       "25              Assam  30-06-2020    Monthly               0.00   7544937.0   \n",
       "13     Andhra Pradesh  30-06-2020    Monthly               0.85  15572975.0   \n",
       "121  Himachal Pradesh  30-06-2020    Monthly               1.12   2230075.0   \n",
       "216         Meghalaya  30-06-2020    Monthly               1.35   1150200.0   \n",
       "93            Gujarat  30-06-2020    Monthly               1.41  13243922.0   \n",
       "\n",
       "     Labour Participation Rate (%)   Area  \n",
       "25                           34.38  Rural  \n",
       "13                           53.76  Rural  \n",
       "121                          41.20  Rural  \n",
       "216                          64.63  Rural  \n",
       "93                           47.72  Rural  "
      ]
     },
     "execution_count": 13,
     "metadata": {},
     "output_type": "execute_result"
    }
   ],
   "source": [
    "df_low_u = df[df[\" Date\"] == '30-06-2020'].sort_values(\"Unemployment rate\", ascending=True).head(5)\n",
    "df_low_u"
   ]
  },
  {
   "cell_type": "code",
   "execution_count": 14,
   "id": "9286abb5",
   "metadata": {},
   "outputs": [
    {
     "data": {
      "text/html": [
       "<div>\n",
       "<style scoped>\n",
       "    .dataframe tbody tr th:only-of-type {\n",
       "        vertical-align: middle;\n",
       "    }\n",
       "\n",
       "    .dataframe tbody tr th {\n",
       "        vertical-align: top;\n",
       "    }\n",
       "\n",
       "    .dataframe thead th {\n",
       "        text-align: right;\n",
       "    }\n",
       "</style>\n",
       "<table border=\"1\" class=\"dataframe\">\n",
       "  <thead>\n",
       "    <tr style=\"text-align: right;\">\n",
       "      <th></th>\n",
       "      <th>Region</th>\n",
       "      <th>Date</th>\n",
       "      <th>Frequency</th>\n",
       "      <th>Unemployment rate</th>\n",
       "      <th>Employed</th>\n",
       "      <th>Labour Participation Rate (%)</th>\n",
       "      <th>Area</th>\n",
       "      <th>Region and Area</th>\n",
       "    </tr>\n",
       "  </thead>\n",
       "  <tbody>\n",
       "    <tr>\n",
       "      <th>25</th>\n",
       "      <td>Assam</td>\n",
       "      <td>30-06-2020</td>\n",
       "      <td>Monthly</td>\n",
       "      <td>0.00</td>\n",
       "      <td>7544937.0</td>\n",
       "      <td>34.38</td>\n",
       "      <td>Rural</td>\n",
       "      <td>Assam(Rural)</td>\n",
       "    </tr>\n",
       "    <tr>\n",
       "      <th>13</th>\n",
       "      <td>Andhra Pradesh</td>\n",
       "      <td>30-06-2020</td>\n",
       "      <td>Monthly</td>\n",
       "      <td>0.85</td>\n",
       "      <td>15572975.0</td>\n",
       "      <td>53.76</td>\n",
       "      <td>Rural</td>\n",
       "      <td>Andhra Pradesh(Rural)</td>\n",
       "    </tr>\n",
       "    <tr>\n",
       "      <th>121</th>\n",
       "      <td>Himachal Pradesh</td>\n",
       "      <td>30-06-2020</td>\n",
       "      <td>Monthly</td>\n",
       "      <td>1.12</td>\n",
       "      <td>2230075.0</td>\n",
       "      <td>41.20</td>\n",
       "      <td>Rural</td>\n",
       "      <td>Himachal Pradesh(Rural)</td>\n",
       "    </tr>\n",
       "    <tr>\n",
       "      <th>216</th>\n",
       "      <td>Meghalaya</td>\n",
       "      <td>30-06-2020</td>\n",
       "      <td>Monthly</td>\n",
       "      <td>1.35</td>\n",
       "      <td>1150200.0</td>\n",
       "      <td>64.63</td>\n",
       "      <td>Rural</td>\n",
       "      <td>Meghalaya(Rural)</td>\n",
       "    </tr>\n",
       "    <tr>\n",
       "      <th>93</th>\n",
       "      <td>Gujarat</td>\n",
       "      <td>30-06-2020</td>\n",
       "      <td>Monthly</td>\n",
       "      <td>1.41</td>\n",
       "      <td>13243922.0</td>\n",
       "      <td>47.72</td>\n",
       "      <td>Rural</td>\n",
       "      <td>Gujarat(Rural)</td>\n",
       "    </tr>\n",
       "  </tbody>\n",
       "</table>\n",
       "</div>"
      ],
      "text/plain": [
       "               Region        Date  Frequency  Unemployment rate    Employed  \\\n",
       "25              Assam  30-06-2020    Monthly               0.00   7544937.0   \n",
       "13     Andhra Pradesh  30-06-2020    Monthly               0.85  15572975.0   \n",
       "121  Himachal Pradesh  30-06-2020    Monthly               1.12   2230075.0   \n",
       "216         Meghalaya  30-06-2020    Monthly               1.35   1150200.0   \n",
       "93            Gujarat  30-06-2020    Monthly               1.41  13243922.0   \n",
       "\n",
       "     Labour Participation Rate (%)   Area          Region and Area  \n",
       "25                           34.38  Rural             Assam(Rural)  \n",
       "13                           53.76  Rural    Andhra Pradesh(Rural)  \n",
       "121                          41.20  Rural  Himachal Pradesh(Rural)  \n",
       "216                          64.63  Rural         Meghalaya(Rural)  \n",
       "93                           47.72  Rural           Gujarat(Rural)  "
      ]
     },
     "execution_count": 14,
     "metadata": {},
     "output_type": "execute_result"
    }
   ],
   "source": [
    "df_low_u[\"Region and Area\"] = df_low_u[\"Region\"] + \"(\" + df_low_u[\"Area\"] + \")\"\n",
    "df_low_u"
   ]
  },
  {
   "cell_type": "code",
   "execution_count": 15,
   "id": "216418a2",
   "metadata": {},
   "outputs": [
    {
     "data": {
      "image/png": "[encoded data removed]",
      "text/plain": [
       "<Figure size 640x480 with 1 Axes>"
      ]
     },
     "metadata": {},
     "output_type": "display_data"
    }
   ],
   "source": [
    "fig, graph = plt.subplots()\n",
    "graph.barh(df_low_u[\"Region and Area\"], df_low_u[\"Unemployment rate\"])\n",
    "fig.subplots_adjust()\n",
    "plt.ylabel(\"Region and area\")\n",
    "plt.xlabel(\"Unemployment rate\")\n",
    "plt.show()"
   ]
  },
  {
   "cell_type": "markdown",
   "id": "54e396c7",
   "metadata": {},
   "source": [
    "# Lowest and highest ever unemployment rate"
   ]
  },
  {
   "cell_type": "code",
   "execution_count": 16,
   "id": "6b58ddab",
   "metadata": {},
   "outputs": [
    {
     "data": {
      "text/plain": [
       "0.0"
      ]
     },
     "execution_count": 16,
     "metadata": {},
     "output_type": "execute_result"
    }
   ],
   "source": [
    "np.min(df[\"Unemployment rate\"])"
   ]
  },
  {
   "cell_type": "code",
   "execution_count": 17,
   "id": "e8bd81a5",
   "metadata": {},
   "outputs": [
    {
     "data": {
      "text/html": [
       "<div>\n",
       "<style scoped>\n",
       "    .dataframe tbody tr th:only-of-type {\n",
       "        vertical-align: middle;\n",
       "    }\n",
       "\n",
       "    .dataframe tbody tr th {\n",
       "        vertical-align: top;\n",
       "    }\n",
       "\n",
       "    .dataframe thead th {\n",
       "        text-align: right;\n",
       "    }\n",
       "</style>\n",
       "<table border=\"1\" class=\"dataframe\">\n",
       "  <thead>\n",
       "    <tr style=\"text-align: right;\">\n",
       "      <th></th>\n",
       "      <th>Region</th>\n",
       "      <th>Date</th>\n",
       "      <th>Frequency</th>\n",
       "      <th>Unemployment rate</th>\n",
       "      <th>Employed</th>\n",
       "      <th>Labour Participation Rate (%)</th>\n",
       "      <th>Area</th>\n",
       "      <th>Region and Area</th>\n",
       "    </tr>\n",
       "  </thead>\n",
       "  <tbody>\n",
       "    <tr>\n",
       "      <th>0</th>\n",
       "      <td>Andhra Pradesh</td>\n",
       "      <td>31-05-2019</td>\n",
       "      <td>Monthly</td>\n",
       "      <td>3.65</td>\n",
       "      <td>11999139.0</td>\n",
       "      <td>43.24</td>\n",
       "      <td>Rural</td>\n",
       "      <td>Andhra Pradesh(Rural)</td>\n",
       "    </tr>\n",
       "    <tr>\n",
       "      <th>1</th>\n",
       "      <td>Andhra Pradesh</td>\n",
       "      <td>30-06-2019</td>\n",
       "      <td>Monthly</td>\n",
       "      <td>3.05</td>\n",
       "      <td>11755881.0</td>\n",
       "      <td>42.05</td>\n",
       "      <td>Rural</td>\n",
       "      <td>Andhra Pradesh(Rural)</td>\n",
       "    </tr>\n",
       "    <tr>\n",
       "      <th>2</th>\n",
       "      <td>Andhra Pradesh</td>\n",
       "      <td>31-07-2019</td>\n",
       "      <td>Monthly</td>\n",
       "      <td>3.75</td>\n",
       "      <td>12086707.0</td>\n",
       "      <td>43.50</td>\n",
       "      <td>Rural</td>\n",
       "      <td>Andhra Pradesh(Rural)</td>\n",
       "    </tr>\n",
       "    <tr>\n",
       "      <th>3</th>\n",
       "      <td>Andhra Pradesh</td>\n",
       "      <td>31-08-2019</td>\n",
       "      <td>Monthly</td>\n",
       "      <td>3.32</td>\n",
       "      <td>12285693.0</td>\n",
       "      <td>43.97</td>\n",
       "      <td>Rural</td>\n",
       "      <td>Andhra Pradesh(Rural)</td>\n",
       "    </tr>\n",
       "    <tr>\n",
       "      <th>4</th>\n",
       "      <td>Andhra Pradesh</td>\n",
       "      <td>30-09-2019</td>\n",
       "      <td>Monthly</td>\n",
       "      <td>5.17</td>\n",
       "      <td>12256762.0</td>\n",
       "      <td>44.68</td>\n",
       "      <td>Rural</td>\n",
       "      <td>Andhra Pradesh(Rural)</td>\n",
       "    </tr>\n",
       "    <tr>\n",
       "      <th>...</th>\n",
       "      <td>...</td>\n",
       "      <td>...</td>\n",
       "      <td>...</td>\n",
       "      <td>...</td>\n",
       "      <td>...</td>\n",
       "      <td>...</td>\n",
       "      <td>...</td>\n",
       "      <td>...</td>\n",
       "    </tr>\n",
       "    <tr>\n",
       "      <th>749</th>\n",
       "      <td>West Bengal</td>\n",
       "      <td>29-02-2020</td>\n",
       "      <td>Monthly</td>\n",
       "      <td>7.55</td>\n",
       "      <td>10871168.0</td>\n",
       "      <td>44.09</td>\n",
       "      <td>Urban</td>\n",
       "      <td>West Bengal(Urban)</td>\n",
       "    </tr>\n",
       "    <tr>\n",
       "      <th>750</th>\n",
       "      <td>West Bengal</td>\n",
       "      <td>31-03-2020</td>\n",
       "      <td>Monthly</td>\n",
       "      <td>6.67</td>\n",
       "      <td>10806105.0</td>\n",
       "      <td>43.34</td>\n",
       "      <td>Urban</td>\n",
       "      <td>West Bengal(Urban)</td>\n",
       "    </tr>\n",
       "    <tr>\n",
       "      <th>751</th>\n",
       "      <td>West Bengal</td>\n",
       "      <td>30-04-2020</td>\n",
       "      <td>Monthly</td>\n",
       "      <td>15.63</td>\n",
       "      <td>9299466.0</td>\n",
       "      <td>41.20</td>\n",
       "      <td>Urban</td>\n",
       "      <td>West Bengal(Urban)</td>\n",
       "    </tr>\n",
       "    <tr>\n",
       "      <th>752</th>\n",
       "      <td>West Bengal</td>\n",
       "      <td>31-05-2020</td>\n",
       "      <td>Monthly</td>\n",
       "      <td>15.22</td>\n",
       "      <td>9240903.0</td>\n",
       "      <td>40.67</td>\n",
       "      <td>Urban</td>\n",
       "      <td>West Bengal(Urban)</td>\n",
       "    </tr>\n",
       "    <tr>\n",
       "      <th>753</th>\n",
       "      <td>West Bengal</td>\n",
       "      <td>30-06-2020</td>\n",
       "      <td>Monthly</td>\n",
       "      <td>9.86</td>\n",
       "      <td>9088931.0</td>\n",
       "      <td>37.57</td>\n",
       "      <td>Urban</td>\n",
       "      <td>West Bengal(Urban)</td>\n",
       "    </tr>\n",
       "  </tbody>\n",
       "</table>\n",
       "<p>740 rows × 8 columns</p>\n",
       "</div>"
      ],
      "text/plain": [
       "             Region        Date  Frequency  Unemployment rate    Employed  \\\n",
       "0    Andhra Pradesh  31-05-2019    Monthly               3.65  11999139.0   \n",
       "1    Andhra Pradesh  30-06-2019    Monthly               3.05  11755881.0   \n",
       "2    Andhra Pradesh  31-07-2019    Monthly               3.75  12086707.0   \n",
       "3    Andhra Pradesh  31-08-2019    Monthly               3.32  12285693.0   \n",
       "4    Andhra Pradesh  30-09-2019    Monthly               5.17  12256762.0   \n",
       "..              ...         ...        ...                ...         ...   \n",
       "749     West Bengal  29-02-2020    Monthly               7.55  10871168.0   \n",
       "750     West Bengal  31-03-2020    Monthly               6.67  10806105.0   \n",
       "751     West Bengal  30-04-2020    Monthly              15.63   9299466.0   \n",
       "752     West Bengal  31-05-2020    Monthly              15.22   9240903.0   \n",
       "753     West Bengal  30-06-2020    Monthly               9.86   9088931.0   \n",
       "\n",
       "     Labour Participation Rate (%)   Area        Region and Area  \n",
       "0                            43.24  Rural  Andhra Pradesh(Rural)  \n",
       "1                            42.05  Rural  Andhra Pradesh(Rural)  \n",
       "2                            43.50  Rural  Andhra Pradesh(Rural)  \n",
       "3                            43.97  Rural  Andhra Pradesh(Rural)  \n",
       "4                            44.68  Rural  Andhra Pradesh(Rural)  \n",
       "..                             ...    ...                    ...  \n",
       "749                          44.09  Urban     West Bengal(Urban)  \n",
       "750                          43.34  Urban     West Bengal(Urban)  \n",
       "751                          41.20  Urban     West Bengal(Urban)  \n",
       "752                          40.67  Urban     West Bengal(Urban)  \n",
       "753                          37.57  Urban     West Bengal(Urban)  \n",
       "\n",
       "[740 rows x 8 columns]"
      ]
     },
     "execution_count": 17,
     "metadata": {},
     "output_type": "execute_result"
    }
   ],
   "source": [
    "df[\"Region and Area\"] = df[\"Region\"] + \"(\" + df[\"Area\"] + \")\"\n",
    "df"
   ]
  },
  {
   "cell_type": "code",
   "execution_count": 18,
   "id": "98cc4a2b",
   "metadata": {},
   "outputs": [
    {
     "data": {
      "text/html": [
       "<div>\n",
       "<style scoped>\n",
       "    .dataframe tbody tr th:only-of-type {\n",
       "        vertical-align: middle;\n",
       "    }\n",
       "\n",
       "    .dataframe tbody tr th {\n",
       "        vertical-align: top;\n",
       "    }\n",
       "\n",
       "    .dataframe thead th {\n",
       "        text-align: right;\n",
       "    }\n",
       "</style>\n",
       "<table border=\"1\" class=\"dataframe\">\n",
       "  <thead>\n",
       "    <tr style=\"text-align: right;\">\n",
       "      <th></th>\n",
       "      <th>Region and Area</th>\n",
       "      <th>Date</th>\n",
       "      <th>Unemployment rate</th>\n",
       "    </tr>\n",
       "  </thead>\n",
       "  <tbody>\n",
       "    <tr>\n",
       "      <th>25</th>\n",
       "      <td>Assam(Rural)</td>\n",
       "      <td>30-06-2020</td>\n",
       "      <td>0.0</td>\n",
       "    </tr>\n",
       "    <tr>\n",
       "      <th>51</th>\n",
       "      <td>Chhattisgarh(Rural)</td>\n",
       "      <td>30-04-2020</td>\n",
       "      <td>0.0</td>\n",
       "    </tr>\n",
       "    <tr>\n",
       "      <th>77</th>\n",
       "      <td>Goa(Rural)</td>\n",
       "      <td>29-02-2020</td>\n",
       "      <td>0.0</td>\n",
       "    </tr>\n",
       "    <tr>\n",
       "      <th>231</th>\n",
       "      <td>Puducherry(Rural)</td>\n",
       "      <td>31-05-2019</td>\n",
       "      <td>0.0</td>\n",
       "    </tr>\n",
       "    <tr>\n",
       "      <th>232</th>\n",
       "      <td>Puducherry(Rural)</td>\n",
       "      <td>30-06-2019</td>\n",
       "      <td>0.0</td>\n",
       "    </tr>\n",
       "    <tr>\n",
       "      <th>233</th>\n",
       "      <td>Puducherry(Rural)</td>\n",
       "      <td>31-07-2019</td>\n",
       "      <td>0.0</td>\n",
       "    </tr>\n",
       "    <tr>\n",
       "      <th>235</th>\n",
       "      <td>Puducherry(Rural)</td>\n",
       "      <td>30-09-2019</td>\n",
       "      <td>0.0</td>\n",
       "    </tr>\n",
       "    <tr>\n",
       "      <th>237</th>\n",
       "      <td>Puducherry(Rural)</td>\n",
       "      <td>30-11-2019</td>\n",
       "      <td>0.0</td>\n",
       "    </tr>\n",
       "    <tr>\n",
       "      <th>274</th>\n",
       "      <td>Sikkim(Rural)</td>\n",
       "      <td>30-04-2020</td>\n",
       "      <td>0.0</td>\n",
       "    </tr>\n",
       "    <tr>\n",
       "      <th>617</th>\n",
       "      <td>Puducherry(Urban)</td>\n",
       "      <td>30-06-2019</td>\n",
       "      <td>0.0</td>\n",
       "    </tr>\n",
       "    <tr>\n",
       "      <th>618</th>\n",
       "      <td>Puducherry(Urban)</td>\n",
       "      <td>31-07-2019</td>\n",
       "      <td>0.0</td>\n",
       "    </tr>\n",
       "  </tbody>\n",
       "</table>\n",
       "</div>"
      ],
      "text/plain": [
       "         Region and Area        Date  Unemployment rate\n",
       "25          Assam(Rural)  30-06-2020                0.0\n",
       "51   Chhattisgarh(Rural)  30-04-2020                0.0\n",
       "77            Goa(Rural)  29-02-2020                0.0\n",
       "231    Puducherry(Rural)  31-05-2019                0.0\n",
       "232    Puducherry(Rural)  30-06-2019                0.0\n",
       "233    Puducherry(Rural)  31-07-2019                0.0\n",
       "235    Puducherry(Rural)  30-09-2019                0.0\n",
       "237    Puducherry(Rural)  30-11-2019                0.0\n",
       "274        Sikkim(Rural)  30-04-2020                0.0\n",
       "617    Puducherry(Urban)  30-06-2019                0.0\n",
       "618    Puducherry(Urban)  31-07-2019                0.0"
      ]
     },
     "execution_count": 18,
     "metadata": {},
     "output_type": "execute_result"
    }
   ],
   "source": [
    "df[df[\"Unemployment rate\"] == np.min(df[\"Unemployment rate\"])][[\"Region and Area\", \" Date\", \"Unemployment rate\"]]"
   ]
  },
  {
   "cell_type": "markdown",
   "id": "37abc7e2",
   "metadata": {},
   "source": [
    "# Maximum unemployment rate"
   ]
  },
  {
   "cell_type": "code",
   "execution_count": 19,
   "id": "dc37f3b7",
   "metadata": {},
   "outputs": [
    {
     "data": {
      "text/html": [
       "<div>\n",
       "<style scoped>\n",
       "    .dataframe tbody tr th:only-of-type {\n",
       "        vertical-align: middle;\n",
       "    }\n",
       "\n",
       "    .dataframe tbody tr th {\n",
       "        vertical-align: top;\n",
       "    }\n",
       "\n",
       "    .dataframe thead th {\n",
       "        text-align: right;\n",
       "    }\n",
       "</style>\n",
       "<table border=\"1\" class=\"dataframe\">\n",
       "  <thead>\n",
       "    <tr style=\"text-align: right;\">\n",
       "      <th></th>\n",
       "      <th>Region and Area</th>\n",
       "      <th>Date</th>\n",
       "      <th>Unemployment rate</th>\n",
       "    </tr>\n",
       "  </thead>\n",
       "  <tbody>\n",
       "    <tr>\n",
       "      <th>627</th>\n",
       "      <td>Puducherry(Urban)</td>\n",
       "      <td>30-04-2020</td>\n",
       "      <td>76.74</td>\n",
       "    </tr>\n",
       "  </tbody>\n",
       "</table>\n",
       "</div>"
      ],
      "text/plain": [
       "       Region and Area        Date  Unemployment rate\n",
       "627  Puducherry(Urban)  30-04-2020              76.74"
      ]
     },
     "execution_count": 19,
     "metadata": {},
     "output_type": "execute_result"
    }
   ],
   "source": [
    "df[df[\"Unemployment rate\"] == np.max(df[\"Unemployment rate\"])][[\"Region and Area\", \" Date\", \"Unemployment rate\"]]"
   ]
  },
  {
   "cell_type": "markdown",
   "id": "627ab991",
   "metadata": {},
   "source": [
    "# Important lists"
   ]
  },
  {
   "cell_type": "code",
   "execution_count": 20,
   "id": "02b840e8",
   "metadata": {},
   "outputs": [
    {
     "data": {
      "text/plain": [
       "array(['Andhra Pradesh', 'Assam', 'Bihar', 'Chhattisgarh', 'Delhi', 'Goa',\n",
       "       'Gujarat', 'Haryana', 'Himachal Pradesh', 'Jammu & Kashmir',\n",
       "       'Jharkhand', 'Karnataka', 'Kerala', 'Madhya Pradesh',\n",
       "       'Maharashtra', 'Meghalaya', 'Odisha', 'Puducherry', 'Punjab',\n",
       "       'Rajasthan', 'Sikkim', 'Tamil Nadu', 'Telangana', 'Tripura',\n",
       "       'Uttar Pradesh', 'Uttarakhand', 'West Bengal', 'Chandigarh'],\n",
       "      dtype=object)"
      ]
     },
     "execution_count": 20,
     "metadata": {},
     "output_type": "execute_result"
    }
   ],
   "source": [
    "regions = df[\"Region\"].unique()\n",
    "regions"
   ]
  },
  {
   "cell_type": "code",
   "execution_count": 21,
   "id": "6285a8da",
   "metadata": {},
   "outputs": [
    {
     "data": {
      "text/plain": [
       "array(['31-05-2019', '30-06-2019', '31-07-2019', '31-08-2019',\n",
       "       '30-09-2019', '31-10-2019', '30-11-2019', '31-12-2019',\n",
       "       '31-01-2020', '29-02-2020', '31-03-2020', '30-04-2020',\n",
       "       '31-05-2020', '30-06-2020'], dtype=object)"
      ]
     },
     "execution_count": 21,
     "metadata": {},
     "output_type": "execute_result"
    }
   ],
   "source": [
    "dates = df[\" Date\"].unique()\n",
    "dates"
   ]
  },
  {
   "cell_type": "code",
   "execution_count": 22,
   "id": "f0ba57b5",
   "metadata": {},
   "outputs": [
    {
     "data": {
      "text/plain": [
       "array(['Rural', 'Urban'], dtype=object)"
      ]
     },
     "execution_count": 22,
     "metadata": {},
     "output_type": "execute_result"
    }
   ],
   "source": [
    "area = df[\"Area\"].unique()\n",
    "area"
   ]
  },
  {
   "cell_type": "markdown",
   "id": "5119b2ce",
   "metadata": {},
   "source": [
    "# Important functions"
   ]
  },
  {
   "cell_type": "code",
   "execution_count": 23,
   "id": "d006695a",
   "metadata": {},
   "outputs": [],
   "source": [
    "def get_unemp_rate(region, area, date):\n",
    "    return df[(df[\"Area\"] == area) & (df[\"Region\"] == region) & (df[\" Date\"] == date)][\"Unemployment rate\"]"
   ]
  },
  {
   "cell_type": "code",
   "execution_count": 24,
   "id": "be96730f",
   "metadata": {},
   "outputs": [
    {
     "data": {
      "text/plain": [
       "753    9.86\n",
       "Name: Unemployment rate, dtype: float64"
      ]
     },
     "execution_count": 24,
     "metadata": {},
     "output_type": "execute_result"
    }
   ],
   "source": [
    "get_unemp_rate(\"West Bengal\", \"Urban\", \"30-06-2020\")"
   ]
  },
  {
   "cell_type": "code",
   "execution_count": 25,
   "id": "6c10d910",
   "metadata": {},
   "outputs": [],
   "source": [
    "def get_employed(region, area, date):\n",
    "    return df[(df[\"Area\"] == area) & (df[\"Region\"] == region) & (df[\" Date\"] == date)][\"Employed\"]"
   ]
  },
  {
   "cell_type": "code",
   "execution_count": 26,
   "id": "09f1b978",
   "metadata": {},
   "outputs": [
    {
     "data": {
      "text/plain": [
       "753    9088931.0\n",
       "Name: Employed, dtype: float64"
      ]
     },
     "execution_count": 26,
     "metadata": {},
     "output_type": "execute_result"
    }
   ],
   "source": [
    "get_employed(\"West Bengal\", \"Urban\", \"30-06-2020\")"
   ]
  },
  {
   "cell_type": "code",
   "execution_count": 27,
   "id": "0abd09cf",
   "metadata": {},
   "outputs": [],
   "source": [
    "def get_labour_part_rate(region, area, date):\n",
    "    return df[(df[\"Area\"] == area) & (df[\"Region\"] == region) & (df[\" Date\"] == date)][\"Labour Participation Rate (%)\"]"
   ]
  },
  {
   "cell_type": "code",
   "execution_count": 28,
   "id": "790c1e7c",
   "metadata": {},
   "outputs": [
    {
     "data": {
      "text/plain": [
       "753    37.57\n",
       "Name: Labour Participation Rate (%), dtype: float64"
      ]
     },
     "execution_count": 28,
     "metadata": {},
     "output_type": "execute_result"
    }
   ],
   "source": [
    "get_labour_part_rate(\"West Bengal\", \"Urban\", \"30-06-2020\")"
   ]
  },
  {
   "cell_type": "markdown",
   "id": "59bcdc7b",
   "metadata": {},
   "source": [
    "# Line graph unemployment rate change per region and area"
   ]
  },
  {
   "cell_type": "code",
   "execution_count": 29,
   "id": "3f909f87",
   "metadata": {},
   "outputs": [],
   "source": [
    "def get_dates_for_graph(region, dev_status):\n",
    "    return df[(df[\"Region\"] == region) & (df[\"Area\"] == dev_status)][\" Date\"]"
   ]
  },
  {
   "cell_type": "code",
   "execution_count": 30,
   "id": "3e802747",
   "metadata": {},
   "outputs": [],
   "source": [
    "def get_unemp_rate_for_graph(region, dev_status):\n",
    "    return df[(df[\"Region\"] == region) & (df[\"Area\"] == dev_status)][\"Unemployment rate\"]"
   ]
  },
  {
   "cell_type": "code",
   "execution_count": 31,
   "id": "6feaac7b",
   "metadata": {},
   "outputs": [
    {
     "name": "stdout",
     "output_type": "stream",
     "text": [
      "345    31-05-2019\n",
      "346    30-06-2019\n",
      "347    31-07-2019\n",
      "348    31-08-2019\n",
      "349    30-09-2019\n",
      "350    31-10-2019\n",
      "351    30-11-2019\n",
      "352    31-12-2019\n",
      "353    31-01-2020\n",
      "354    29-02-2020\n",
      "355    31-03-2020\n",
      "356    30-04-2020\n",
      "357    31-05-2020\n",
      "358    30-06-2020\n",
      "Name:  Date, dtype: object\n"
     ]
    }
   ],
   "source": [
    "print(get_dates_for_graph(\"West Bengal\", \"Rural\"))"
   ]
  },
  {
   "cell_type": "code",
   "execution_count": 32,
   "id": "4a42be17",
   "metadata": {},
   "outputs": [
    {
     "name": "stdout",
     "output_type": "stream",
     "text": [
      "602     2.95\n",
      "603     2.63\n",
      "604     1.78\n",
      "605     3.50\n",
      "606     3.78\n",
      "607     4.50\n",
      "608     2.23\n",
      "609     3.36\n",
      "610     2.28\n",
      "611     2.19\n",
      "612     3.96\n",
      "613    20.50\n",
      "614    10.00\n",
      "615     2.18\n",
      "Name: Unemployment rate, dtype: float64\n"
     ]
    }
   ],
   "source": [
    "print(get_unemp_rate_for_graph(\"Odisha\", \"Urban\"))"
   ]
  },
  {
   "cell_type": "code",
   "execution_count": 33,
   "id": "461f5e01",
   "metadata": {},
   "outputs": [
    {
     "data": {
      "image/png": "[encoded data removed]",
      "text/plain": [
       "<Figure size 640x480 with 1 Axes>"
      ]
     },
     "metadata": {},
     "output_type": "display_data"
    }
   ],
   "source": [
    "plt.plot(get_dates_for_graph(\"Odisha\", \"Rural\"), get_unemp_rate_for_graph(\"Odisha\", \"Rural\"))\n",
    "plt.xlabel(\"Dates\")\n",
    "plt.ylabel(\"Unemployment rate\")\n",
    "plt.show()"
   ]
  },
  {
   "cell_type": "markdown",
   "id": "6e5e5906",
   "metadata": {},
   "source": [
    "# Highest employed per region and area as on 30-06-2020"
   ]
  },
  {
   "cell_type": "code",
   "execution_count": 47,
   "id": "7c740fe8",
   "metadata": {},
   "outputs": [
    {
     "data": {
      "text/html": [
       "<div>\n",
       "<style scoped>\n",
       "    .dataframe tbody tr th:only-of-type {\n",
       "        vertical-align: middle;\n",
       "    }\n",
       "\n",
       "    .dataframe tbody tr th {\n",
       "        vertical-align: top;\n",
       "    }\n",
       "\n",
       "    .dataframe thead th {\n",
       "        text-align: right;\n",
       "    }\n",
       "</style>\n",
       "<table border=\"1\" class=\"dataframe\">\n",
       "  <thead>\n",
       "    <tr style=\"text-align: right;\">\n",
       "      <th></th>\n",
       "      <th>Region</th>\n",
       "      <th>Date</th>\n",
       "      <th>Frequency</th>\n",
       "      <th>Unemployment rate</th>\n",
       "      <th>Employed</th>\n",
       "      <th>Labour Participation Rate (%)</th>\n",
       "      <th>Area</th>\n",
       "      <th>Region and Area</th>\n",
       "    </tr>\n",
       "  </thead>\n",
       "  <tbody>\n",
       "    <tr>\n",
       "      <th>331</th>\n",
       "      <td>Uttar Pradesh</td>\n",
       "      <td>30-06-2020</td>\n",
       "      <td>Monthly</td>\n",
       "      <td>8.51</td>\n",
       "      <td>41908909.0</td>\n",
       "      <td>36.89</td>\n",
       "      <td>Rural</td>\n",
       "      <td>Uttar Pradesh(Rural)</td>\n",
       "    </tr>\n",
       "    <tr>\n",
       "      <th>202</th>\n",
       "      <td>Maharashtra</td>\n",
       "      <td>30-06-2020</td>\n",
       "      <td>Monthly</td>\n",
       "      <td>9.40</td>\n",
       "      <td>23601016.0</td>\n",
       "      <td>48.34</td>\n",
       "      <td>Rural</td>\n",
       "      <td>Maharashtra(Rural)</td>\n",
       "    </tr>\n",
       "    <tr>\n",
       "      <th>358</th>\n",
       "      <td>West Bengal</td>\n",
       "      <td>30-06-2020</td>\n",
       "      <td>Monthly</td>\n",
       "      <td>4.94</td>\n",
       "      <td>21225887.0</td>\n",
       "      <td>40.44</td>\n",
       "      <td>Rural</td>\n",
       "      <td>West Bengal(Rural)</td>\n",
       "    </tr>\n",
       "    <tr>\n",
       "      <th>39</th>\n",
       "      <td>Bihar</td>\n",
       "      <td>30-06-2020</td>\n",
       "      <td>Monthly</td>\n",
       "      <td>20.49</td>\n",
       "      <td>20622566.0</td>\n",
       "      <td>37.40</td>\n",
       "      <td>Rural</td>\n",
       "      <td>Bihar(Rural)</td>\n",
       "    </tr>\n",
       "    <tr>\n",
       "      <th>188</th>\n",
       "      <td>Madhya Pradesh</td>\n",
       "      <td>30-06-2020</td>\n",
       "      <td>Monthly</td>\n",
       "      <td>6.46</td>\n",
       "      <td>16748971.0</td>\n",
       "      <td>41.50</td>\n",
       "      <td>Rural</td>\n",
       "      <td>Madhya Pradesh(Rural)</td>\n",
       "    </tr>\n",
       "  </tbody>\n",
       "</table>\n",
       "</div>"
      ],
      "text/plain": [
       "             Region        Date  Frequency  Unemployment rate    Employed  \\\n",
       "331   Uttar Pradesh  30-06-2020    Monthly               8.51  41908909.0   \n",
       "202     Maharashtra  30-06-2020    Monthly               9.40  23601016.0   \n",
       "358     West Bengal  30-06-2020    Monthly               4.94  21225887.0   \n",
       "39            Bihar  30-06-2020    Monthly              20.49  20622566.0   \n",
       "188  Madhya Pradesh  30-06-2020    Monthly               6.46  16748971.0   \n",
       "\n",
       "     Labour Participation Rate (%)   Area        Region and Area  \n",
       "331                          36.89  Rural   Uttar Pradesh(Rural)  \n",
       "202                          48.34  Rural     Maharashtra(Rural)  \n",
       "358                          40.44  Rural     West Bengal(Rural)  \n",
       "39                           37.40  Rural           Bihar(Rural)  \n",
       "188                          41.50  Rural  Madhya Pradesh(Rural)  "
      ]
     },
     "execution_count": 47,
     "metadata": {},
     "output_type": "execute_result"
    }
   ],
   "source": [
    "df_high_e = df[df[\" Date\"] == '30-06-2020'].sort_values(\"Employed\", ascending=False).head(5)\n",
    "df_high_e"
   ]
  },
  {
   "cell_type": "code",
   "execution_count": 35,
   "id": "a0b7bce0",
   "metadata": {},
   "outputs": [
    {
     "data": {
      "image/png": "[encoded data removed]",
      "text/plain": [
       "<Figure size 640x480 with 1 Axes>"
      ]
     },
     "metadata": {},
     "output_type": "display_data"
    }
   ],
   "source": [
    "plt.barh(df_high_e[\"Region and Area\"], df_high_e[\"Employed\"])\n",
    "plt.ylabel(\"Region and area\")\n",
    "plt.xlabel(\"Employed\")\n",
    "plt.show()"
   ]
  },
  {
   "cell_type": "markdown",
   "id": "cb44e87e",
   "metadata": {},
   "source": [
    "# Lowest employed per region and area as on 30-06-2020"
   ]
  },
  {
   "cell_type": "code",
   "execution_count": 36,
   "id": "06b73c4a",
   "metadata": {},
   "outputs": [
    {
     "data": {
      "text/html": [
       "<div>\n",
       "<style scoped>\n",
       "    .dataframe tbody tr th:only-of-type {\n",
       "        vertical-align: middle;\n",
       "    }\n",
       "\n",
       "    .dataframe tbody tr th {\n",
       "        vertical-align: top;\n",
       "    }\n",
       "\n",
       "    .dataframe thead th {\n",
       "        text-align: right;\n",
       "    }\n",
       "</style>\n",
       "<table border=\"1\" class=\"dataframe\">\n",
       "  <thead>\n",
       "    <tr style=\"text-align: right;\">\n",
       "      <th></th>\n",
       "      <th>Region</th>\n",
       "      <th>Date</th>\n",
       "      <th>Frequency</th>\n",
       "      <th>Unemployment rate</th>\n",
       "      <th>Employed</th>\n",
       "      <th>Labour Participation Rate (%)</th>\n",
       "      <th>Area</th>\n",
       "      <th>Region and Area</th>\n",
       "    </tr>\n",
       "  </thead>\n",
       "  <tbody>\n",
       "    <tr>\n",
       "      <th>669</th>\n",
       "      <td>Sikkim</td>\n",
       "      <td>30-06-2020</td>\n",
       "      <td>Monthly</td>\n",
       "      <td>2.63</td>\n",
       "      <td>76269.0</td>\n",
       "      <td>35.85</td>\n",
       "      <td>Urban</td>\n",
       "      <td>Sikkim(Urban)</td>\n",
       "    </tr>\n",
       "    <tr>\n",
       "      <th>67</th>\n",
       "      <td>Delhi</td>\n",
       "      <td>30-06-2020</td>\n",
       "      <td>Monthly</td>\n",
       "      <td>21.14</td>\n",
       "      <td>112108.0</td>\n",
       "      <td>29.22</td>\n",
       "      <td>Rural</td>\n",
       "      <td>Delhi(Rural)</td>\n",
       "    </tr>\n",
       "    <tr>\n",
       "      <th>275</th>\n",
       "      <td>Sikkim</td>\n",
       "      <td>30-06-2020</td>\n",
       "      <td>Monthly</td>\n",
       "      <td>5.81</td>\n",
       "      <td>141313.0</td>\n",
       "      <td>42.36</td>\n",
       "      <td>Rural</td>\n",
       "      <td>Sikkim(Rural)</td>\n",
       "    </tr>\n",
       "    <tr>\n",
       "      <th>508</th>\n",
       "      <td>Himachal Pradesh</td>\n",
       "      <td>30-06-2020</td>\n",
       "      <td>Monthly</td>\n",
       "      <td>10.81</td>\n",
       "      <td>224902.0</td>\n",
       "      <td>40.66</td>\n",
       "      <td>Urban</td>\n",
       "      <td>Himachal Pradesh(Urban)</td>\n",
       "    </tr>\n",
       "    <tr>\n",
       "      <th>629</th>\n",
       "      <td>Puducherry</td>\n",
       "      <td>30-06-2020</td>\n",
       "      <td>Monthly</td>\n",
       "      <td>4.55</td>\n",
       "      <td>234926.0</td>\n",
       "      <td>29.73</td>\n",
       "      <td>Urban</td>\n",
       "      <td>Puducherry(Urban)</td>\n",
       "    </tr>\n",
       "  </tbody>\n",
       "</table>\n",
       "</div>"
      ],
      "text/plain": [
       "               Region        Date  Frequency  Unemployment rate  Employed  \\\n",
       "669            Sikkim  30-06-2020    Monthly               2.63   76269.0   \n",
       "67              Delhi  30-06-2020    Monthly              21.14  112108.0   \n",
       "275            Sikkim  30-06-2020    Monthly               5.81  141313.0   \n",
       "508  Himachal Pradesh  30-06-2020    Monthly              10.81  224902.0   \n",
       "629        Puducherry  30-06-2020    Monthly               4.55  234926.0   \n",
       "\n",
       "     Labour Participation Rate (%)   Area          Region and Area  \n",
       "669                          35.85  Urban            Sikkim(Urban)  \n",
       "67                           29.22  Rural             Delhi(Rural)  \n",
       "275                          42.36  Rural            Sikkim(Rural)  \n",
       "508                          40.66  Urban  Himachal Pradesh(Urban)  \n",
       "629                          29.73  Urban        Puducherry(Urban)  "
      ]
     },
     "execution_count": 36,
     "metadata": {},
     "output_type": "execute_result"
    }
   ],
   "source": [
    "df_low_e = df[df[\" Date\"] == '30-06-2020'].sort_values(\"Employed\").head(5)\n",
    "df_low_e"
   ]
  },
  {
   "cell_type": "code",
   "execution_count": 37,
   "id": "42bb3484",
   "metadata": {},
   "outputs": [
    {
     "data": {
      "image/png": "[encoded data removed]",
      "text/plain": [
       "<Figure size 640x480 with 1 Axes>"
      ]
     },
     "metadata": {},
     "output_type": "display_data"
    }
   ],
   "source": [
    "plt.barh(df_low_e[\"Region and Area\"], df_low_e[\"Employed\"])\n",
    "plt.ylabel(\"Region and area\")\n",
    "plt.xlabel(\"Employed\")\n",
    "plt.show()"
   ]
  },
  {
   "cell_type": "markdown",
   "id": "6af3e7c2",
   "metadata": {},
   "source": [
    "# Lowest Labour participation rate per region and area as on 30-06-2020"
   ]
  },
  {
   "cell_type": "code",
   "execution_count": 38,
   "id": "243966f8",
   "metadata": {},
   "outputs": [
    {
     "data": {
      "text/html": [
       "<div>\n",
       "<style scoped>\n",
       "    .dataframe tbody tr th:only-of-type {\n",
       "        vertical-align: middle;\n",
       "    }\n",
       "\n",
       "    .dataframe tbody tr th {\n",
       "        vertical-align: top;\n",
       "    }\n",
       "\n",
       "    .dataframe thead th {\n",
       "        text-align: right;\n",
       "    }\n",
       "</style>\n",
       "<table border=\"1\" class=\"dataframe\">\n",
       "  <thead>\n",
       "    <tr style=\"text-align: right;\">\n",
       "      <th></th>\n",
       "      <th>Region</th>\n",
       "      <th>Date</th>\n",
       "      <th>Frequency</th>\n",
       "      <th>Unemployment rate</th>\n",
       "      <th>Employed</th>\n",
       "      <th>Labour Participation Rate (%)</th>\n",
       "      <th>Area</th>\n",
       "      <th>Region and Area</th>\n",
       "    </tr>\n",
       "  </thead>\n",
       "  <tbody>\n",
       "    <tr>\n",
       "      <th>67</th>\n",
       "      <td>Delhi</td>\n",
       "      <td>30-06-2020</td>\n",
       "      <td>Monthly</td>\n",
       "      <td>21.14</td>\n",
       "      <td>112108.0</td>\n",
       "      <td>29.22</td>\n",
       "      <td>Rural</td>\n",
       "      <td>Delhi(Rural)</td>\n",
       "    </tr>\n",
       "    <tr>\n",
       "      <th>629</th>\n",
       "      <td>Puducherry</td>\n",
       "      <td>30-06-2020</td>\n",
       "      <td>Monthly</td>\n",
       "      <td>4.55</td>\n",
       "      <td>234926.0</td>\n",
       "      <td>29.73</td>\n",
       "      <td>Urban</td>\n",
       "      <td>Puducherry(Urban)</td>\n",
       "    </tr>\n",
       "    <tr>\n",
       "      <th>289</th>\n",
       "      <td>Tamil Nadu</td>\n",
       "      <td>30-06-2020</td>\n",
       "      <td>Monthly</td>\n",
       "      <td>2.06</td>\n",
       "      <td>10169115.0</td>\n",
       "      <td>31.49</td>\n",
       "      <td>Rural</td>\n",
       "      <td>Tamil Nadu(Rural)</td>\n",
       "    </tr>\n",
       "    <tr>\n",
       "      <th>683</th>\n",
       "      <td>Tamil Nadu</td>\n",
       "      <td>30-06-2020</td>\n",
       "      <td>Monthly</td>\n",
       "      <td>24.93</td>\n",
       "      <td>7741005.0</td>\n",
       "      <td>31.60</td>\n",
       "      <td>Urban</td>\n",
       "      <td>Tamil Nadu(Urban)</td>\n",
       "    </tr>\n",
       "    <tr>\n",
       "      <th>344</th>\n",
       "      <td>Uttarakhand</td>\n",
       "      <td>30-06-2020</td>\n",
       "      <td>Monthly</td>\n",
       "      <td>10.71</td>\n",
       "      <td>1675441.0</td>\n",
       "      <td>32.00</td>\n",
       "      <td>Rural</td>\n",
       "      <td>Uttarakhand(Rural)</td>\n",
       "    </tr>\n",
       "  </tbody>\n",
       "</table>\n",
       "</div>"
      ],
      "text/plain": [
       "          Region        Date  Frequency  Unemployment rate    Employed  \\\n",
       "67         Delhi  30-06-2020    Monthly              21.14    112108.0   \n",
       "629   Puducherry  30-06-2020    Monthly               4.55    234926.0   \n",
       "289   Tamil Nadu  30-06-2020    Monthly               2.06  10169115.0   \n",
       "683   Tamil Nadu  30-06-2020    Monthly              24.93   7741005.0   \n",
       "344  Uttarakhand  30-06-2020    Monthly              10.71   1675441.0   \n",
       "\n",
       "     Labour Participation Rate (%)   Area     Region and Area  \n",
       "67                           29.22  Rural        Delhi(Rural)  \n",
       "629                          29.73  Urban   Puducherry(Urban)  \n",
       "289                          31.49  Rural   Tamil Nadu(Rural)  \n",
       "683                          31.60  Urban   Tamil Nadu(Urban)  \n",
       "344                          32.00  Rural  Uttarakhand(Rural)  "
      ]
     },
     "execution_count": 38,
     "metadata": {},
     "output_type": "execute_result"
    }
   ],
   "source": [
    "df_low_l = df[df[\" Date\"] == '30-06-2020'].sort_values(\"Labour Participation Rate (%)\").head(5)\n",
    "df_low_l"
   ]
  },
  {
   "cell_type": "code",
   "execution_count": 39,
   "id": "a071ec17",
   "metadata": {},
   "outputs": [
    {
     "data": {
      "image/png": "[encoded data removed]",
      "text/plain": [
       "<Figure size 640x480 with 1 Axes>"
      ]
     },
     "metadata": {},
     "output_type": "display_data"
    }
   ],
   "source": [
    "plt.barh(df_low_l[\"Region and Area\"], df_low_l[\"Labour Participation Rate (%)\"])\n",
    "plt.ylabel(\"Region and area\")\n",
    "plt.xlabel(\"Labour Participation Rate\")\n",
    "plt.show()"
   ]
  },
  {
   "cell_type": "markdown",
   "id": "d3edd424",
   "metadata": {},
   "source": [
    "# Highest Labour participation rate per region and area as on 30-06-2020"
   ]
  },
  {
   "cell_type": "code",
   "execution_count": 40,
   "id": "ec56f75b",
   "metadata": {},
   "outputs": [
    {
     "data": {
      "text/html": [
       "<div>\n",
       "<style scoped>\n",
       "    .dataframe tbody tr th:only-of-type {\n",
       "        vertical-align: middle;\n",
       "    }\n",
       "\n",
       "    .dataframe tbody tr th {\n",
       "        vertical-align: top;\n",
       "    }\n",
       "\n",
       "    .dataframe thead th {\n",
       "        text-align: right;\n",
       "    }\n",
       "</style>\n",
       "<table border=\"1\" class=\"dataframe\">\n",
       "  <thead>\n",
       "    <tr style=\"text-align: right;\">\n",
       "      <th></th>\n",
       "      <th>Region</th>\n",
       "      <th>Date</th>\n",
       "      <th>Frequency</th>\n",
       "      <th>Unemployment rate</th>\n",
       "      <th>Employed</th>\n",
       "      <th>Labour Participation Rate (%)</th>\n",
       "      <th>Area</th>\n",
       "      <th>Region and Area</th>\n",
       "    </tr>\n",
       "  </thead>\n",
       "  <tbody>\n",
       "    <tr>\n",
       "      <th>216</th>\n",
       "      <td>Meghalaya</td>\n",
       "      <td>30-06-2020</td>\n",
       "      <td>Monthly</td>\n",
       "      <td>1.35</td>\n",
       "      <td>1150200.0</td>\n",
       "      <td>64.63</td>\n",
       "      <td>Rural</td>\n",
       "      <td>Meghalaya(Rural)</td>\n",
       "    </tr>\n",
       "    <tr>\n",
       "      <th>317</th>\n",
       "      <td>Tripura</td>\n",
       "      <td>30-06-2020</td>\n",
       "      <td>Monthly</td>\n",
       "      <td>18.84</td>\n",
       "      <td>1106978.0</td>\n",
       "      <td>59.74</td>\n",
       "      <td>Rural</td>\n",
       "      <td>Tripura(Rural)</td>\n",
       "    </tr>\n",
       "    <tr>\n",
       "      <th>303</th>\n",
       "      <td>Telangana</td>\n",
       "      <td>30-06-2020</td>\n",
       "      <td>Monthly</td>\n",
       "      <td>19.30</td>\n",
       "      <td>8891181.0</td>\n",
       "      <td>58.97</td>\n",
       "      <td>Rural</td>\n",
       "      <td>Telangana(Rural)</td>\n",
       "    </tr>\n",
       "    <tr>\n",
       "      <th>711</th>\n",
       "      <td>Tripura</td>\n",
       "      <td>30-06-2020</td>\n",
       "      <td>Monthly</td>\n",
       "      <td>27.47</td>\n",
       "      <td>391015.0</td>\n",
       "      <td>56.17</td>\n",
       "      <td>Urban</td>\n",
       "      <td>Tripura(Urban)</td>\n",
       "    </tr>\n",
       "    <tr>\n",
       "      <th>13</th>\n",
       "      <td>Andhra Pradesh</td>\n",
       "      <td>30-06-2020</td>\n",
       "      <td>Monthly</td>\n",
       "      <td>0.85</td>\n",
       "      <td>15572975.0</td>\n",
       "      <td>53.76</td>\n",
       "      <td>Rural</td>\n",
       "      <td>Andhra Pradesh(Rural)</td>\n",
       "    </tr>\n",
       "  </tbody>\n",
       "</table>\n",
       "</div>"
      ],
      "text/plain": [
       "             Region        Date  Frequency  Unemployment rate    Employed  \\\n",
       "216       Meghalaya  30-06-2020    Monthly               1.35   1150200.0   \n",
       "317         Tripura  30-06-2020    Monthly              18.84   1106978.0   \n",
       "303       Telangana  30-06-2020    Monthly              19.30   8891181.0   \n",
       "711         Tripura  30-06-2020    Monthly              27.47    391015.0   \n",
       "13   Andhra Pradesh  30-06-2020    Monthly               0.85  15572975.0   \n",
       "\n",
       "     Labour Participation Rate (%)   Area        Region and Area  \n",
       "216                          64.63  Rural       Meghalaya(Rural)  \n",
       "317                          59.74  Rural         Tripura(Rural)  \n",
       "303                          58.97  Rural       Telangana(Rural)  \n",
       "711                          56.17  Urban         Tripura(Urban)  \n",
       "13                           53.76  Rural  Andhra Pradesh(Rural)  "
      ]
     },
     "execution_count": 40,
     "metadata": {},
     "output_type": "execute_result"
    }
   ],
   "source": [
    "df_high_l = df[df[\" Date\"] == '30-06-2020'].sort_values(\"Labour Participation Rate (%)\", ascending=False).head(5)\n",
    "df_high_l"
   ]
  },
  {
   "cell_type": "code",
   "execution_count": 41,
   "id": "6a738383",
   "metadata": {},
   "outputs": [
    {
     "data": {
      "image/png": "[encoded data removed]",
      "text/plain": [
       "<Figure size 640x480 with 1 Axes>"
      ]
     },
     "metadata": {},
     "output_type": "display_data"
    }
   ],
   "source": [
    "plt.barh(df_high_l[\"Region and Area\"], df_high_l[\"Labour Participation Rate (%)\"])\n",
    "plt.ylabel(\"Region and area\")\n",
    "plt.xlabel(\"Labour Participation Rate\")\n",
    "plt.show()"
   ]
  },
  {
   "cell_type": "code",
   "execution_count": null,
   "id": "664640a8",
   "metadata": {},
   "outputs": [],
   "source": []
  }
 ],
 "metadata": {
  "kernelspec": {
   "display_name": "Python 3 (ipykernel)",
   "language": "python",
   "name": "python3"
  },
  "language_info": {
   "codemirror_mode": {
    "name": "ipython",
    "version": 3
   },
   "file_extension": ".py",
   "mimetype": "text/x-python",
   "name": "python",
   "nbconvert_exporter": "python",
   "pygments_lexer": "ipython3",
   "version": "3.11.3"
  }
 },
 "nbformat": 4,
 "nbformat_minor": 5
}
